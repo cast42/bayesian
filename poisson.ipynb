{
 "cells": [
  {
   "cell_type": "code",
   "execution_count": 1,
   "metadata": {},
   "outputs": [
    {
     "name": "stdout",
     "output_type": "stream",
     "text": [
      "Running on PyMC v4.4.0\n"
     ]
    }
   ],
   "source": [
    "import arviz as az\n",
    "import pandas as pd\n",
    "import matplotlib.pyplot as plt\n",
    "import numpy as np\n",
    "import pymc as pm\n",
    "\n",
    "print(f\"Running on PyMC v{pm.__version__}\")"
   ]
  },
  {
   "cell_type": "code",
   "execution_count": 2,
   "metadata": {},
   "outputs": [
    {
     "data": {
      "text/plain": [
       "array([16, 24])"
      ]
     },
     "execution_count": 2,
     "metadata": {},
     "output_type": "execute_result"
    }
   ],
   "source": [
    "# Number conflict in Leuven before intervention\n",
    "data_conflicts_before = np.array([16, 24])\n",
    "data_conflicts_before"
   ]
  },
  {
   "cell_type": "code",
   "execution_count": 3,
   "metadata": {},
   "outputs": [
    {
     "name": "stderr",
     "output_type": "stream",
     "text": [
      "Auto-assigning NUTS sampler...\n",
      "Initializing NUTS using jitter+adapt_diag...\n",
      "Multiprocess sampling (4 chains in 4 jobs)\n",
      "NUTS: [leuven_conflicts_before]\n"
     ]
    },
    {
     "data": {
      "text/html": [
       "\n",
       "<style>\n",
       "    /* Turns off some styling */\n",
       "    progress {\n",
       "        /* gets rid of default border in Firefox and Opera. */\n",
       "        border: none;\n",
       "        /* Needs to be in here for Safari polyfill so background images work as expected. */\n",
       "        background-size: auto;\n",
       "    }\n",
       "    progress:not([value]), progress:not([value])::-webkit-progress-bar {\n",
       "        background: repeating-linear-gradient(45deg, #7e7e7e, #7e7e7e 10px, #5c5c5c 10px, #5c5c5c 20px);\n",
       "    }\n",
       "    .progress-bar-interrupted, .progress-bar-interrupted::-webkit-progress-bar {\n",
       "        background: #F44336;\n",
       "    }\n",
       "</style>\n"
      ],
      "text/plain": [
       "<IPython.core.display.HTML object>"
      ]
     },
     "metadata": {},
     "output_type": "display_data"
    },
    {
     "data": {
      "text/html": [
       "\n",
       "    <div>\n",
       "      <progress value='60000' class='' max='60000' style='width:300px; height:20px; vertical-align: middle;'></progress>\n",
       "      100.00% [60000/60000 00:09&lt;00:00 Sampling 4 chains, 0 divergences]\n",
       "    </div>\n",
       "    "
      ],
      "text/plain": [
       "<IPython.core.display.HTML object>"
      ]
     },
     "metadata": {},
     "output_type": "display_data"
    },
    {
     "name": "stderr",
     "output_type": "stream",
     "text": [
      "Sampling 4 chains for 5_000 tune and 10_000 draw iterations (20_000 + 40_000 draws total) took 25 seconds.\n"
     ]
    }
   ],
   "source": [
    "with pm.Model() as model_conflicts_before:\n",
    "    alpha_conflicts_leuven_before = 1.0/np.mean(data_conflicts_before)\n",
    "    lambda_leuven_conflicts_before = pm.Exponential(\"leuven_conflicts_before\", alpha_conflicts_leuven_before)\n",
    "    observation = pm.Poisson(\"obs\", lambda_leuven_conflicts_before, observed=data_conflicts_before)\n",
    "    trace_leuven_conflicts_before = pm.sample(10000, tune=5000, return_inferencedata=False)"
   ]
  },
  {
   "cell_type": "code",
   "execution_count": 4,
   "metadata": {},
   "outputs": [
    {
     "data": {
      "text/plain": [
       "0.05"
      ]
     },
     "execution_count": 4,
     "metadata": {},
     "output_type": "execute_result"
    }
   ],
   "source": [
    "alpha_conflicts_leuven_before"
   ]
  },
  {
   "cell_type": "code",
   "execution_count": 5,
   "metadata": {},
   "outputs": [
    {
     "ename": "ModuleNotFoundError",
     "evalue": "No module named 'pymc3'",
     "output_type": "error",
     "traceback": [
      "\u001b[0;31m---------------------------------------------------------------------------\u001b[0m",
      "\u001b[0;31mModuleNotFoundError\u001b[0m                       Traceback (most recent call last)",
      "Cell \u001b[0;32mIn [5], line 1\u001b[0m\n\u001b[0;32m----> 1\u001b[0m az\u001b[39m.\u001b[39;49mplot_trace(trace_leuven_conflicts_before, combined\u001b[39m=\u001b[39;49m\u001b[39mTrue\u001b[39;49;00m);\n",
      "File \u001b[0;32m~/opt/anaconda3/envs/pymc_env/lib/python3.11/site-packages/arviz/plots/traceplot.py:177\u001b[0m, in \u001b[0;36mplot_trace\u001b[0;34m(data, var_names, filter_vars, transform, coords, divergences, kind, figsize, rug, lines, circ_var_names, circ_var_units, compact, compact_prop, combined, chain_prop, legend, plot_kwargs, fill_kwargs, rug_kwargs, hist_kwargs, trace_kwargs, rank_kwargs, labeller, axes, backend, backend_config, backend_kwargs, show)\u001b[0m\n\u001b[1;32m    175\u001b[0m \u001b[39mif\u001b[39;00m divergences:\n\u001b[1;32m    176\u001b[0m     \u001b[39mtry\u001b[39;00m:\n\u001b[0;32m--> 177\u001b[0m         divergence_data \u001b[39m=\u001b[39m convert_to_dataset(data, group\u001b[39m=\u001b[39;49m\u001b[39m\"\u001b[39;49m\u001b[39msample_stats\u001b[39;49m\u001b[39m\"\u001b[39;49m)\u001b[39m.\u001b[39mdiverging\u001b[39m.\u001b[39mtranspose(\n\u001b[1;32m    178\u001b[0m             \u001b[39m\"\u001b[39m\u001b[39mchain\u001b[39m\u001b[39m\"\u001b[39m, \u001b[39m\"\u001b[39m\u001b[39mdraw\u001b[39m\u001b[39m\"\u001b[39m\n\u001b[1;32m    179\u001b[0m         )\n\u001b[1;32m    180\u001b[0m     \u001b[39mexcept\u001b[39;00m (\u001b[39mValueError\u001b[39;00m, \u001b[39mAttributeError\u001b[39;00m):  \u001b[39m# No sample_stats, or no `.diverging`\u001b[39;00m\n\u001b[1;32m    181\u001b[0m         divergences \u001b[39m=\u001b[39m \u001b[39mNone\u001b[39;00m\n",
      "File \u001b[0;32m~/opt/anaconda3/envs/pymc_env/lib/python3.11/site-packages/arviz/data/converters.py:182\u001b[0m, in \u001b[0;36mconvert_to_dataset\u001b[0;34m(obj, group, coords, dims)\u001b[0m\n\u001b[1;32m    143\u001b[0m \u001b[39mdef\u001b[39;00m \u001b[39mconvert_to_dataset\u001b[39m(obj, \u001b[39m*\u001b[39m, group\u001b[39m=\u001b[39m\u001b[39m\"\u001b[39m\u001b[39mposterior\u001b[39m\u001b[39m\"\u001b[39m, coords\u001b[39m=\u001b[39m\u001b[39mNone\u001b[39;00m, dims\u001b[39m=\u001b[39m\u001b[39mNone\u001b[39;00m):\n\u001b[1;32m    144\u001b[0m     \u001b[39m\"\"\"Convert a supported object to an xarray dataset.\u001b[39;00m\n\u001b[1;32m    145\u001b[0m \n\u001b[1;32m    146\u001b[0m \u001b[39m    This function is idempotent, in that it will return xarray.Dataset functions\u001b[39;00m\n\u001b[0;32m   (...)\u001b[0m\n\u001b[1;32m    180\u001b[0m \u001b[39m    xarray.Dataset\u001b[39;00m\n\u001b[1;32m    181\u001b[0m \u001b[39m    \"\"\"\u001b[39;00m\n\u001b[0;32m--> 182\u001b[0m     inference_data \u001b[39m=\u001b[39m convert_to_inference_data(obj, group\u001b[39m=\u001b[39;49mgroup, coords\u001b[39m=\u001b[39;49mcoords, dims\u001b[39m=\u001b[39;49mdims)\n\u001b[1;32m    183\u001b[0m     dataset \u001b[39m=\u001b[39m \u001b[39mgetattr\u001b[39m(inference_data, group, \u001b[39mNone\u001b[39;00m)\n\u001b[1;32m    184\u001b[0m     \u001b[39mif\u001b[39;00m dataset \u001b[39mis\u001b[39;00m \u001b[39mNone\u001b[39;00m:\n",
      "File \u001b[0;32m~/opt/anaconda3/envs/pymc_env/lib/python3.11/site-packages/arviz/data/converters.py:93\u001b[0m, in \u001b[0;36mconvert_to_inference_data\u001b[0;34m(obj, group, coords, dims, **kwargs)\u001b[0m\n\u001b[1;32m     91\u001b[0m         \u001b[39mreturn\u001b[39;00m from_pystan(\u001b[39m*\u001b[39m\u001b[39m*\u001b[39mkwargs)\n\u001b[1;32m     92\u001b[0m \u001b[39melif\u001b[39;00m obj\u001b[39m.\u001b[39m\u001b[39m__class__\u001b[39m\u001b[39m.\u001b[39m\u001b[39m__name__\u001b[39m \u001b[39m==\u001b[39m \u001b[39m\"\u001b[39m\u001b[39mMultiTrace\u001b[39m\u001b[39m\"\u001b[39m:  \u001b[39m# ugly, but doesn't make PyMC3 a requirement\u001b[39;00m\n\u001b[0;32m---> 93\u001b[0m     \u001b[39mreturn\u001b[39;00m from_pymc3(trace\u001b[39m=\u001b[39;49mkwargs\u001b[39m.\u001b[39;49mpop(group), \u001b[39m*\u001b[39;49m\u001b[39m*\u001b[39;49mkwargs)\n\u001b[1;32m     94\u001b[0m \u001b[39melif\u001b[39;00m obj\u001b[39m.\u001b[39m\u001b[39m__class__\u001b[39m\u001b[39m.\u001b[39m\u001b[39m__name__\u001b[39m \u001b[39m==\u001b[39m \u001b[39m\"\u001b[39m\u001b[39mEnsembleSampler\u001b[39m\u001b[39m\"\u001b[39m:  \u001b[39m# ugly, but doesn't make emcee a requirement\u001b[39;00m\n\u001b[1;32m     95\u001b[0m     \u001b[39mreturn\u001b[39;00m from_emcee(sampler\u001b[39m=\u001b[39mkwargs\u001b[39m.\u001b[39mpop(group), \u001b[39m*\u001b[39m\u001b[39m*\u001b[39mkwargs)\n",
      "File \u001b[0;32m~/opt/anaconda3/envs/pymc_env/lib/python3.11/site-packages/arviz/data/io_pymc3_3x.py:578\u001b[0m, in \u001b[0;36mfrom_pymc3\u001b[0;34m(trace, prior, posterior_predictive, log_likelihood, coords, dims, model, save_warmup, density_dist_obs)\u001b[0m\n\u001b[1;32m    526\u001b[0m \u001b[39mdef\u001b[39;00m \u001b[39mfrom_pymc3\u001b[39m(\n\u001b[1;32m    527\u001b[0m     trace\u001b[39m=\u001b[39m\u001b[39mNone\u001b[39;00m,\n\u001b[1;32m    528\u001b[0m     \u001b[39m*\u001b[39m,\n\u001b[0;32m   (...)\u001b[0m\n\u001b[1;32m    536\u001b[0m     density_dist_obs\u001b[39m=\u001b[39m\u001b[39mTrue\u001b[39;00m,\n\u001b[1;32m    537\u001b[0m ):\n\u001b[1;32m    538\u001b[0m     \u001b[39m\"\"\"Convert pymc3 data into an InferenceData object.\u001b[39;00m\n\u001b[1;32m    539\u001b[0m \n\u001b[1;32m    540\u001b[0m \u001b[39m    All three of them are optional arguments, but at least one of ``trace``,\u001b[39;00m\n\u001b[0;32m   (...)\u001b[0m\n\u001b[1;32m    576\u001b[0m \u001b[39m    InferenceData\u001b[39;00m\n\u001b[1;32m    577\u001b[0m \u001b[39m    \"\"\"\u001b[39;00m\n\u001b[0;32m--> 578\u001b[0m     \u001b[39mreturn\u001b[39;00m PyMC3Converter(\n\u001b[1;32m    579\u001b[0m         trace\u001b[39m=\u001b[39;49mtrace,\n\u001b[1;32m    580\u001b[0m         prior\u001b[39m=\u001b[39;49mprior,\n\u001b[1;32m    581\u001b[0m         posterior_predictive\u001b[39m=\u001b[39;49mposterior_predictive,\n\u001b[1;32m    582\u001b[0m         log_likelihood\u001b[39m=\u001b[39;49mlog_likelihood,\n\u001b[1;32m    583\u001b[0m         coords\u001b[39m=\u001b[39;49mcoords,\n\u001b[1;32m    584\u001b[0m         dims\u001b[39m=\u001b[39;49mdims,\n\u001b[1;32m    585\u001b[0m         model\u001b[39m=\u001b[39;49mmodel,\n\u001b[1;32m    586\u001b[0m         save_warmup\u001b[39m=\u001b[39;49msave_warmup,\n\u001b[1;32m    587\u001b[0m         density_dist_obs\u001b[39m=\u001b[39;49mdensity_dist_obs,\n\u001b[1;32m    588\u001b[0m     )\u001b[39m.\u001b[39mto_inference_data()\n",
      "File \u001b[0;32m~/opt/anaconda3/envs/pymc_env/lib/python3.11/site-packages/arviz/data/io_pymc3_3x.py:75\u001b[0m, in \u001b[0;36mPyMC3Converter.__init__\u001b[0;34m(self, trace, prior, posterior_predictive, log_likelihood, predictions, coords, dims, model, save_warmup, density_dist_obs)\u001b[0m\n\u001b[1;32m     61\u001b[0m \u001b[39mdef\u001b[39;00m \u001b[39m__init__\u001b[39m(\n\u001b[1;32m     62\u001b[0m     \u001b[39mself\u001b[39m,\n\u001b[1;32m     63\u001b[0m     \u001b[39m*\u001b[39m,\n\u001b[0;32m   (...)\u001b[0m\n\u001b[1;32m     73\u001b[0m     density_dist_obs: \u001b[39mbool\u001b[39m \u001b[39m=\u001b[39m \u001b[39mTrue\u001b[39;00m,\n\u001b[1;32m     74\u001b[0m ):\n\u001b[0;32m---> 75\u001b[0m     \u001b[39mimport\u001b[39;00m \u001b[39mpymc3\u001b[39;00m\n\u001b[1;32m     77\u001b[0m     \u001b[39mtry\u001b[39;00m:\n\u001b[1;32m     78\u001b[0m         \u001b[39mimport\u001b[39;00m \u001b[39maesara\u001b[39;00m  \u001b[39m# pylint: disable=redefined-outer-name\u001b[39;00m\n",
      "\u001b[0;31mModuleNotFoundError\u001b[0m: No module named 'pymc3'"
     ]
    }
   ],
   "source": [
    "az.plot_trace(trace_leuven_conflicts_before, combined=True);"
   ]
  },
  {
   "cell_type": "code",
   "execution_count": null,
   "metadata": {},
   "outputs": [
    {
     "ename": "ModuleNotFoundError",
     "evalue": "No module named 'pymc3'",
     "output_type": "error",
     "traceback": [
      "\u001b[0;31m---------------------------------------------------------------------------\u001b[0m",
      "\u001b[0;31mModuleNotFoundError\u001b[0m                       Traceback (most recent call last)",
      "Cell \u001b[0;32mIn [9], line 1\u001b[0m\n\u001b[0;32m----> 1\u001b[0m az\u001b[39m.\u001b[39;49msummary(trace_leuven_conflicts_before, kind\u001b[39m=\u001b[39;49m\u001b[39m\"\u001b[39;49m\u001b[39mstats\u001b[39;49m\u001b[39m\"\u001b[39;49m, round_to\u001b[39m=\u001b[39;49m\u001b[39m2\u001b[39;49m)\n",
      "File \u001b[0;32m~/opt/anaconda3/envs/pymc_env/lib/python3.11/site-packages/arviz/stats/stats.py:1358\u001b[0m, in \u001b[0;36msummary\u001b[0;34m(data, var_names, filter_vars, group, fmt, kind, round_to, circ_var_names, stat_focus, stat_funcs, extend, hdi_prob, skipna, labeller, coords, index_origin, order)\u001b[0m\n\u001b[1;32m   1349\u001b[0m     \u001b[39mraise\u001b[39;00m \u001b[39mValueError\u001b[39;00m(\n\u001b[1;32m   1350\u001b[0m         \u001b[39m\"\u001b[39m\u001b[39my has shape: \u001b[39m\u001b[39m{}\u001b[39;00m\u001b[39m which should be equal to y_hat shape (omitting the last \u001b[39m\u001b[39m\"\u001b[39m\n\u001b[1;32m   1351\u001b[0m         \u001b[39m\"\u001b[39m\u001b[39mdimension): \u001b[39m\u001b[39m{}\u001b[39;00m\u001b[39m\"\u001b[39m\u001b[39m.\u001b[39mformat(y\u001b[39m.\u001b[39mshape, y_hat\u001b[39m.\u001b[39mshape)\n\u001b[1;32m   1352\u001b[0m     )\n\u001b[1;32m   1354\u001b[0m \u001b[39mif\u001b[39;00m y_hat\u001b[39m.\u001b[39mshape \u001b[39m!=\u001b[39m log_weights\u001b[39m.\u001b[39mshape:\n\u001b[1;32m   1355\u001b[0m     \u001b[39mraise\u001b[39;00m \u001b[39mValueError\u001b[39;00m(\n\u001b[1;32m   1356\u001b[0m         \u001b[39m\"\u001b[39m\u001b[39my_hat and log_weights must have the same shape but have shapes \u001b[39m\u001b[39m{}\u001b[39;00m\u001b[39m and \u001b[39m\u001b[39m{}\u001b[39;00m\u001b[39m\"\u001b[39m\u001b[39m.\u001b[39mformat(\n\u001b[1;32m   1357\u001b[0m             y_hat\u001b[39m.\u001b[39mshape, log_weights\u001b[39m.\u001b[39mshape\n\u001b[0;32m-> 1358\u001b[0m         )\n\u001b[1;32m   1359\u001b[0m     )\n\u001b[1;32m   1361\u001b[0m kwargs \u001b[39m=\u001b[39m {\n\u001b[1;32m   1362\u001b[0m     \u001b[39m\"\u001b[39m\u001b[39minput_core_dims\u001b[39m\u001b[39m\"\u001b[39m: [[], [\u001b[39m\"\u001b[39m\u001b[39msample\u001b[39m\u001b[39m\"\u001b[39m], [\u001b[39m\"\u001b[39m\u001b[39msample\u001b[39m\u001b[39m\"\u001b[39m]],\n\u001b[1;32m   1363\u001b[0m     \u001b[39m\"\u001b[39m\u001b[39moutput_core_dims\u001b[39m\u001b[39m\"\u001b[39m: [[]],\n\u001b[1;32m   1364\u001b[0m     \u001b[39m\"\u001b[39m\u001b[39mjoin\u001b[39m\u001b[39m\"\u001b[39m: \u001b[39m\"\u001b[39m\u001b[39mleft\u001b[39m\u001b[39m\"\u001b[39m,\n\u001b[1;32m   1365\u001b[0m }\n\u001b[1;32m   1366\u001b[0m ufunc_kwargs \u001b[39m=\u001b[39m {\u001b[39m\"\u001b[39m\u001b[39mn_dims\u001b[39m\u001b[39m\"\u001b[39m: \u001b[39m1\u001b[39m}\n",
      "File \u001b[0;32m~/opt/anaconda3/envs/pymc_env/lib/python3.11/site-packages/arviz/data/converters.py:182\u001b[0m, in \u001b[0;36mconvert_to_dataset\u001b[0;34m(obj, group, coords, dims)\u001b[0m\n\u001b[1;32m    143\u001b[0m \u001b[39mdef\u001b[39;00m \u001b[39mconvert_to_dataset\u001b[39m(obj, \u001b[39m*\u001b[39m, group\u001b[39m=\u001b[39m\u001b[39m\"\u001b[39m\u001b[39mposterior\u001b[39m\u001b[39m\"\u001b[39m, coords\u001b[39m=\u001b[39m\u001b[39mNone\u001b[39;00m, dims\u001b[39m=\u001b[39m\u001b[39mNone\u001b[39;00m):\n\u001b[1;32m    144\u001b[0m     \u001b[39m\"\"\"Convert a supported object to an xarray dataset.\u001b[39;00m\n\u001b[1;32m    145\u001b[0m \n\u001b[1;32m    146\u001b[0m \u001b[39m    This function is idempotent, in that it will return xarray.Dataset functions\u001b[39;00m\n\u001b[0;32m   (...)\u001b[0m\n\u001b[1;32m    180\u001b[0m \u001b[39m    xarray.Dataset\u001b[39;00m\n\u001b[1;32m    181\u001b[0m \u001b[39m    \"\"\"\u001b[39;00m\n\u001b[0;32m--> 182\u001b[0m     inference_data \u001b[39m=\u001b[39m convert_to_inference_data(obj, group\u001b[39m=\u001b[39;49mgroup, coords\u001b[39m=\u001b[39;49mcoords, dims\u001b[39m=\u001b[39;49mdims)\n\u001b[1;32m    183\u001b[0m     dataset \u001b[39m=\u001b[39m \u001b[39mgetattr\u001b[39m(inference_data, group, \u001b[39mNone\u001b[39;00m)\n\u001b[1;32m    184\u001b[0m     \u001b[39mif\u001b[39;00m dataset \u001b[39mis\u001b[39;00m \u001b[39mNone\u001b[39;00m:\n",
      "File \u001b[0;32m~/opt/anaconda3/envs/pymc_env/lib/python3.11/site-packages/arviz/data/converters.py:93\u001b[0m, in \u001b[0;36mconvert_to_inference_data\u001b[0;34m(obj, group, coords, dims, **kwargs)\u001b[0m\n\u001b[1;32m     91\u001b[0m         \u001b[39mreturn\u001b[39;00m from_pystan(\u001b[39m*\u001b[39m\u001b[39m*\u001b[39mkwargs)\n\u001b[1;32m     92\u001b[0m \u001b[39melif\u001b[39;00m obj\u001b[39m.\u001b[39m\u001b[39m__class__\u001b[39m\u001b[39m.\u001b[39m\u001b[39m__name__\u001b[39m \u001b[39m==\u001b[39m \u001b[39m\"\u001b[39m\u001b[39mMultiTrace\u001b[39m\u001b[39m\"\u001b[39m:  \u001b[39m# ugly, but doesn't make PyMC3 a requirement\u001b[39;00m\n\u001b[0;32m---> 93\u001b[0m     \u001b[39mreturn\u001b[39;00m from_pymc3(trace\u001b[39m=\u001b[39;49mkwargs\u001b[39m.\u001b[39;49mpop(group), \u001b[39m*\u001b[39;49m\u001b[39m*\u001b[39;49mkwargs)\n\u001b[1;32m     94\u001b[0m \u001b[39melif\u001b[39;00m obj\u001b[39m.\u001b[39m\u001b[39m__class__\u001b[39m\u001b[39m.\u001b[39m\u001b[39m__name__\u001b[39m \u001b[39m==\u001b[39m \u001b[39m\"\u001b[39m\u001b[39mEnsembleSampler\u001b[39m\u001b[39m\"\u001b[39m:  \u001b[39m# ugly, but doesn't make emcee a requirement\u001b[39;00m\n\u001b[1;32m     95\u001b[0m     \u001b[39mreturn\u001b[39;00m from_emcee(sampler\u001b[39m=\u001b[39mkwargs\u001b[39m.\u001b[39mpop(group), \u001b[39m*\u001b[39m\u001b[39m*\u001b[39mkwargs)\n",
      "File \u001b[0;32m~/opt/anaconda3/envs/pymc_env/lib/python3.11/site-packages/arviz/data/io_pymc3_3x.py:578\u001b[0m, in \u001b[0;36mfrom_pymc3\u001b[0;34m(trace, prior, posterior_predictive, log_likelihood, coords, dims, model, save_warmup, density_dist_obs)\u001b[0m\n\u001b[1;32m    526\u001b[0m \u001b[39mdef\u001b[39;00m \u001b[39mfrom_pymc3\u001b[39m(\n\u001b[1;32m    527\u001b[0m     trace\u001b[39m=\u001b[39m\u001b[39mNone\u001b[39;00m,\n\u001b[1;32m    528\u001b[0m     \u001b[39m*\u001b[39m,\n\u001b[0;32m   (...)\u001b[0m\n\u001b[1;32m    536\u001b[0m     density_dist_obs\u001b[39m=\u001b[39m\u001b[39mTrue\u001b[39;00m,\n\u001b[1;32m    537\u001b[0m ):\n\u001b[1;32m    538\u001b[0m     \u001b[39m\"\"\"Convert pymc3 data into an InferenceData object.\u001b[39;00m\n\u001b[1;32m    539\u001b[0m \n\u001b[1;32m    540\u001b[0m \u001b[39m    All three of them are optional arguments, but at least one of ``trace``,\u001b[39;00m\n\u001b[0;32m   (...)\u001b[0m\n\u001b[1;32m    576\u001b[0m \u001b[39m    InferenceData\u001b[39;00m\n\u001b[1;32m    577\u001b[0m \u001b[39m    \"\"\"\u001b[39;00m\n\u001b[0;32m--> 578\u001b[0m     \u001b[39mreturn\u001b[39;00m PyMC3Converter(\n\u001b[1;32m    579\u001b[0m         trace\u001b[39m=\u001b[39;49mtrace,\n\u001b[1;32m    580\u001b[0m         prior\u001b[39m=\u001b[39;49mprior,\n\u001b[1;32m    581\u001b[0m         posterior_predictive\u001b[39m=\u001b[39;49mposterior_predictive,\n\u001b[1;32m    582\u001b[0m         log_likelihood\u001b[39m=\u001b[39;49mlog_likelihood,\n\u001b[1;32m    583\u001b[0m         coords\u001b[39m=\u001b[39;49mcoords,\n\u001b[1;32m    584\u001b[0m         dims\u001b[39m=\u001b[39;49mdims,\n\u001b[1;32m    585\u001b[0m         model\u001b[39m=\u001b[39;49mmodel,\n\u001b[1;32m    586\u001b[0m         save_warmup\u001b[39m=\u001b[39;49msave_warmup,\n\u001b[1;32m    587\u001b[0m         density_dist_obs\u001b[39m=\u001b[39;49mdensity_dist_obs,\n\u001b[1;32m    588\u001b[0m     )\u001b[39m.\u001b[39mto_inference_data()\n",
      "File \u001b[0;32m~/opt/anaconda3/envs/pymc_env/lib/python3.11/site-packages/arviz/data/io_pymc3_3x.py:75\u001b[0m, in \u001b[0;36mPyMC3Converter.__init__\u001b[0;34m(self, trace, prior, posterior_predictive, log_likelihood, predictions, coords, dims, model, save_warmup, density_dist_obs)\u001b[0m\n\u001b[1;32m     61\u001b[0m \u001b[39mdef\u001b[39;00m \u001b[39m__init__\u001b[39m(\n\u001b[1;32m     62\u001b[0m     \u001b[39mself\u001b[39m,\n\u001b[1;32m     63\u001b[0m     \u001b[39m*\u001b[39m,\n\u001b[0;32m   (...)\u001b[0m\n\u001b[1;32m     73\u001b[0m     density_dist_obs: \u001b[39mbool\u001b[39m \u001b[39m=\u001b[39m \u001b[39mTrue\u001b[39;00m,\n\u001b[1;32m     74\u001b[0m ):\n\u001b[0;32m---> 75\u001b[0m     \u001b[39mimport\u001b[39;00m \u001b[39mpymc3\u001b[39;00m\n\u001b[1;32m     77\u001b[0m     \u001b[39mtry\u001b[39;00m:\n\u001b[1;32m     78\u001b[0m         \u001b[39mimport\u001b[39;00m \u001b[39maesara\u001b[39;00m  \u001b[39m# pylint: disable=redefined-outer-name\u001b[39;00m\n",
      "\u001b[0;31mModuleNotFoundError\u001b[0m: No module named 'pymc3'"
     ]
    },
    {
     "ename": "",
     "evalue": "",
     "output_type": "error",
     "traceback": [
      "\u001b[1;31mnotebook controller is DISPOSED. \n",
      "\u001b[1;31mView Jupyter <a href='command:jupyter.viewOutput'>log</a> for further details."
     ]
    }
   ],
   "source": [
    "az.summary(trace_leuven_conflicts_before, kind=\"stats\", round_to=2)"
   ]
  }
 ],
 "metadata": {
  "kernelspec": {
   "display_name": "Python 3.11.0 ('pymc_env')",
   "language": "python",
   "name": "python3"
  },
  "language_info": {
   "codemirror_mode": {
    "name": "ipython",
    "version": 3
   },
   "file_extension": ".py",
   "mimetype": "text/x-python",
   "name": "python",
   "nbconvert_exporter": "python",
   "pygments_lexer": "ipython3",
   "version": "3.11.0 | packaged by conda-forge | (main, Oct 25 2022, 06:24:51) [Clang 14.0.4 ]"
  },
  "orig_nbformat": 4,
  "vscode": {
   "interpreter": {
    "hash": "0420999b52168f95cab1edbc7f7a6e4f7f7f6fcd37f364614dbffc8d9bedb468"
   }
  }
 },
 "nbformat": 4,
 "nbformat_minor": 2
}
